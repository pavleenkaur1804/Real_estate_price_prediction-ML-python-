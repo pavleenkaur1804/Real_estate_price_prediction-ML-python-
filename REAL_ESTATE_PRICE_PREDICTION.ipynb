{
 "cells": [
  {
   "cell_type": "markdown",
   "id": "552bbeb8",
   "metadata": {},
   "source": [
    "# Real Estate Price Prediction\n",
    "Data Exploration and visualisation & Real Estate Price Prediction"
   ]
  },
  {
   "cell_type": "code",
   "execution_count": 1,
   "id": "f94f1c77",
   "metadata": {},
   "outputs": [],
   "source": [
    "import numpy as np\n",
    "import pandas as pd\n",
    "import warnings\n",
    "import matplotlib.pyplot as plt\n",
    "import seaborn as sns\n",
    "warnings.filterwarnings('ignore')"
   ]
  },
  {
   "cell_type": "code",
   "execution_count": 2,
   "id": "a5867448",
   "metadata": {},
   "outputs": [],
   "source": [
    "data=pd.read_csv('Real estate.csv')"
   ]
  },
  {
   "cell_type": "code",
   "execution_count": 3,
   "id": "9f85090c",
   "metadata": {},
   "outputs": [
    {
     "data": {
      "text/html": [
       "<div>\n",
       "<style scoped>\n",
       "    .dataframe tbody tr th:only-of-type {\n",
       "        vertical-align: middle;\n",
       "    }\n",
       "\n",
       "    .dataframe tbody tr th {\n",
       "        vertical-align: top;\n",
       "    }\n",
       "\n",
       "    .dataframe thead th {\n",
       "        text-align: right;\n",
       "    }\n",
       "</style>\n",
       "<table border=\"1\" class=\"dataframe\">\n",
       "  <thead>\n",
       "    <tr style=\"text-align: right;\">\n",
       "      <th></th>\n",
       "      <th>No</th>\n",
       "      <th>X1 transaction date</th>\n",
       "      <th>X2 house age</th>\n",
       "      <th>X3 distance to the nearest MRT station</th>\n",
       "      <th>X4 number of convenience stores</th>\n",
       "      <th>X5 latitude</th>\n",
       "      <th>X6 longitude</th>\n",
       "      <th>Y house price of unit area</th>\n",
       "    </tr>\n",
       "  </thead>\n",
       "  <tbody>\n",
       "    <tr>\n",
       "      <th>0</th>\n",
       "      <td>1</td>\n",
       "      <td>2012.917</td>\n",
       "      <td>32.0</td>\n",
       "      <td>84.87882</td>\n",
       "      <td>10</td>\n",
       "      <td>24.98298</td>\n",
       "      <td>121.54024</td>\n",
       "      <td>37.9</td>\n",
       "    </tr>\n",
       "    <tr>\n",
       "      <th>1</th>\n",
       "      <td>2</td>\n",
       "      <td>2012.917</td>\n",
       "      <td>19.5</td>\n",
       "      <td>306.59470</td>\n",
       "      <td>9</td>\n",
       "      <td>24.98034</td>\n",
       "      <td>121.53951</td>\n",
       "      <td>42.2</td>\n",
       "    </tr>\n",
       "    <tr>\n",
       "      <th>2</th>\n",
       "      <td>3</td>\n",
       "      <td>2013.583</td>\n",
       "      <td>13.3</td>\n",
       "      <td>561.98450</td>\n",
       "      <td>5</td>\n",
       "      <td>24.98746</td>\n",
       "      <td>121.54391</td>\n",
       "      <td>47.3</td>\n",
       "    </tr>\n",
       "    <tr>\n",
       "      <th>3</th>\n",
       "      <td>4</td>\n",
       "      <td>2013.500</td>\n",
       "      <td>13.3</td>\n",
       "      <td>561.98450</td>\n",
       "      <td>5</td>\n",
       "      <td>24.98746</td>\n",
       "      <td>121.54391</td>\n",
       "      <td>54.8</td>\n",
       "    </tr>\n",
       "    <tr>\n",
       "      <th>4</th>\n",
       "      <td>5</td>\n",
       "      <td>2012.833</td>\n",
       "      <td>5.0</td>\n",
       "      <td>390.56840</td>\n",
       "      <td>5</td>\n",
       "      <td>24.97937</td>\n",
       "      <td>121.54245</td>\n",
       "      <td>43.1</td>\n",
       "    </tr>\n",
       "  </tbody>\n",
       "</table>\n",
       "</div>"
      ],
      "text/plain": [
       "   No  X1 transaction date  X2 house age  \\\n",
       "0   1             2012.917          32.0   \n",
       "1   2             2012.917          19.5   \n",
       "2   3             2013.583          13.3   \n",
       "3   4             2013.500          13.3   \n",
       "4   5             2012.833           5.0   \n",
       "\n",
       "   X3 distance to the nearest MRT station  X4 number of convenience stores  \\\n",
       "0                                84.87882                               10   \n",
       "1                               306.59470                                9   \n",
       "2                               561.98450                                5   \n",
       "3                               561.98450                                5   \n",
       "4                               390.56840                                5   \n",
       "\n",
       "   X5 latitude  X6 longitude  Y house price of unit area  \n",
       "0     24.98298     121.54024                        37.9  \n",
       "1     24.98034     121.53951                        42.2  \n",
       "2     24.98746     121.54391                        47.3  \n",
       "3     24.98746     121.54391                        54.8  \n",
       "4     24.97937     121.54245                        43.1  "
      ]
     },
     "execution_count": 3,
     "metadata": {},
     "output_type": "execute_result"
    }
   ],
   "source": [
    "data.head()"
   ]
  },
  {
   "cell_type": "code",
   "execution_count": 4,
   "id": "5f3e482e",
   "metadata": {},
   "outputs": [
    {
     "data": {
      "text/html": [
       "<div>\n",
       "<style scoped>\n",
       "    .dataframe tbody tr th:only-of-type {\n",
       "        vertical-align: middle;\n",
       "    }\n",
       "\n",
       "    .dataframe tbody tr th {\n",
       "        vertical-align: top;\n",
       "    }\n",
       "\n",
       "    .dataframe thead th {\n",
       "        text-align: right;\n",
       "    }\n",
       "</style>\n",
       "<table border=\"1\" class=\"dataframe\">\n",
       "  <thead>\n",
       "    <tr style=\"text-align: right;\">\n",
       "      <th></th>\n",
       "      <th>No</th>\n",
       "      <th>X1 transaction date</th>\n",
       "      <th>X2 house age</th>\n",
       "      <th>X3 distance to the nearest MRT station</th>\n",
       "      <th>X4 number of convenience stores</th>\n",
       "      <th>X5 latitude</th>\n",
       "      <th>X6 longitude</th>\n",
       "      <th>Y house price of unit area</th>\n",
       "    </tr>\n",
       "  </thead>\n",
       "  <tbody>\n",
       "    <tr>\n",
       "      <th>0</th>\n",
       "      <td>False</td>\n",
       "      <td>False</td>\n",
       "      <td>False</td>\n",
       "      <td>False</td>\n",
       "      <td>False</td>\n",
       "      <td>False</td>\n",
       "      <td>False</td>\n",
       "      <td>False</td>\n",
       "    </tr>\n",
       "    <tr>\n",
       "      <th>1</th>\n",
       "      <td>False</td>\n",
       "      <td>False</td>\n",
       "      <td>False</td>\n",
       "      <td>False</td>\n",
       "      <td>False</td>\n",
       "      <td>False</td>\n",
       "      <td>False</td>\n",
       "      <td>False</td>\n",
       "    </tr>\n",
       "    <tr>\n",
       "      <th>2</th>\n",
       "      <td>False</td>\n",
       "      <td>False</td>\n",
       "      <td>False</td>\n",
       "      <td>False</td>\n",
       "      <td>False</td>\n",
       "      <td>False</td>\n",
       "      <td>False</td>\n",
       "      <td>False</td>\n",
       "    </tr>\n",
       "    <tr>\n",
       "      <th>3</th>\n",
       "      <td>False</td>\n",
       "      <td>False</td>\n",
       "      <td>False</td>\n",
       "      <td>False</td>\n",
       "      <td>False</td>\n",
       "      <td>False</td>\n",
       "      <td>False</td>\n",
       "      <td>False</td>\n",
       "    </tr>\n",
       "    <tr>\n",
       "      <th>4</th>\n",
       "      <td>False</td>\n",
       "      <td>False</td>\n",
       "      <td>False</td>\n",
       "      <td>False</td>\n",
       "      <td>False</td>\n",
       "      <td>False</td>\n",
       "      <td>False</td>\n",
       "      <td>False</td>\n",
       "    </tr>\n",
       "    <tr>\n",
       "      <th>...</th>\n",
       "      <td>...</td>\n",
       "      <td>...</td>\n",
       "      <td>...</td>\n",
       "      <td>...</td>\n",
       "      <td>...</td>\n",
       "      <td>...</td>\n",
       "      <td>...</td>\n",
       "      <td>...</td>\n",
       "    </tr>\n",
       "    <tr>\n",
       "      <th>409</th>\n",
       "      <td>False</td>\n",
       "      <td>False</td>\n",
       "      <td>False</td>\n",
       "      <td>False</td>\n",
       "      <td>False</td>\n",
       "      <td>False</td>\n",
       "      <td>False</td>\n",
       "      <td>False</td>\n",
       "    </tr>\n",
       "    <tr>\n",
       "      <th>410</th>\n",
       "      <td>False</td>\n",
       "      <td>False</td>\n",
       "      <td>False</td>\n",
       "      <td>False</td>\n",
       "      <td>False</td>\n",
       "      <td>False</td>\n",
       "      <td>False</td>\n",
       "      <td>False</td>\n",
       "    </tr>\n",
       "    <tr>\n",
       "      <th>411</th>\n",
       "      <td>False</td>\n",
       "      <td>False</td>\n",
       "      <td>False</td>\n",
       "      <td>False</td>\n",
       "      <td>False</td>\n",
       "      <td>False</td>\n",
       "      <td>False</td>\n",
       "      <td>False</td>\n",
       "    </tr>\n",
       "    <tr>\n",
       "      <th>412</th>\n",
       "      <td>False</td>\n",
       "      <td>False</td>\n",
       "      <td>False</td>\n",
       "      <td>False</td>\n",
       "      <td>False</td>\n",
       "      <td>False</td>\n",
       "      <td>False</td>\n",
       "      <td>False</td>\n",
       "    </tr>\n",
       "    <tr>\n",
       "      <th>413</th>\n",
       "      <td>False</td>\n",
       "      <td>False</td>\n",
       "      <td>False</td>\n",
       "      <td>False</td>\n",
       "      <td>False</td>\n",
       "      <td>False</td>\n",
       "      <td>False</td>\n",
       "      <td>False</td>\n",
       "    </tr>\n",
       "  </tbody>\n",
       "</table>\n",
       "<p>414 rows × 8 columns</p>\n",
       "</div>"
      ],
      "text/plain": [
       "        No  X1 transaction date  X2 house age  \\\n",
       "0    False                False         False   \n",
       "1    False                False         False   \n",
       "2    False                False         False   \n",
       "3    False                False         False   \n",
       "4    False                False         False   \n",
       "..     ...                  ...           ...   \n",
       "409  False                False         False   \n",
       "410  False                False         False   \n",
       "411  False                False         False   \n",
       "412  False                False         False   \n",
       "413  False                False         False   \n",
       "\n",
       "     X3 distance to the nearest MRT station  X4 number of convenience stores  \\\n",
       "0                                     False                            False   \n",
       "1                                     False                            False   \n",
       "2                                     False                            False   \n",
       "3                                     False                            False   \n",
       "4                                     False                            False   \n",
       "..                                      ...                              ...   \n",
       "409                                   False                            False   \n",
       "410                                   False                            False   \n",
       "411                                   False                            False   \n",
       "412                                   False                            False   \n",
       "413                                   False                            False   \n",
       "\n",
       "     X5 latitude  X6 longitude  Y house price of unit area  \n",
       "0          False         False                       False  \n",
       "1          False         False                       False  \n",
       "2          False         False                       False  \n",
       "3          False         False                       False  \n",
       "4          False         False                       False  \n",
       "..           ...           ...                         ...  \n",
       "409        False         False                       False  \n",
       "410        False         False                       False  \n",
       "411        False         False                       False  \n",
       "412        False         False                       False  \n",
       "413        False         False                       False  \n",
       "\n",
       "[414 rows x 8 columns]"
      ]
     },
     "execution_count": 4,
     "metadata": {},
     "output_type": "execute_result"
    }
   ],
   "source": [
    "data.isnull()"
   ]
  },
  {
   "cell_type": "markdown",
   "id": "db5f1c83",
   "metadata": {},
   "source": [
    "### Removing Unnecessary data columns"
   ]
  },
  {
   "cell_type": "code",
   "execution_count": 5,
   "id": "2220ee19",
   "metadata": {},
   "outputs": [],
   "source": [
    "new_data=data.drop(labels='X1 transaction date',axis=1)"
   ]
  },
  {
   "cell_type": "markdown",
   "id": "5d8a130c",
   "metadata": {},
   "source": [
    "## Data Visualisation"
   ]
  },
  {
   "cell_type": "markdown",
   "id": "7549418e",
   "metadata": {},
   "source": [
    "### How the house price varies"
   ]
  },
  {
   "cell_type": "code",
   "execution_count": 6,
   "id": "87cb6fb3",
   "metadata": {
    "scrolled": true
   },
   "outputs": [
    {
     "data": {
      "text/plain": [
       "(array([ 28.,  95., 111., 115.,  52.,   9.,   3.,   0.,   0.,   1.]),\n",
       " array([  7.6 ,  18.59,  29.58,  40.57,  51.56,  62.55,  73.54,  84.53,\n",
       "         95.52, 106.51, 117.5 ]),\n",
       " <BarContainer object of 10 artists>)"
      ]
     },
     "execution_count": 6,
     "metadata": {},
     "output_type": "execute_result"
    },
    {
     "data": {
      "image/png": "[encoded data removed]",
      "text/plain": [
       "<Figure size 432x288 with 1 Axes>"
      ]
     },
     "metadata": {
      "needs_background": "light"
     },
     "output_type": "display_data"
    }
   ],
   "source": [
    "plt.hist(data['Y house price of unit area'],color='slateblue')"
   ]
  },
  {
   "cell_type": "markdown",
   "id": "f9027ce5",
   "metadata": {},
   "source": [
    "### How the distance to the nearest MRT station varies with House Prices"
   ]
  },
  {
   "cell_type": "code",
   "execution_count": 7,
   "id": "66ff4167",
   "metadata": {},
   "outputs": [
    {
     "data": {
      "text/plain": [
       "<matplotlib.collections.PathCollection at 0x20212bf97f0>"
      ]
     },
     "execution_count": 7,
     "metadata": {},
     "output_type": "execute_result"
    },
    {
     "data": {
      "image/png": "[encoded data removed]",
      "text/plain": [
       "<Figure size 432x288 with 1 Axes>"
      ]
     },
     "metadata": {
      "needs_background": "light"
     },
     "output_type": "display_data"
    }
   ],
   "source": [
    "plt.scatter(data['X3 distance to the nearest MRT station'],data['Y house price of unit area'],color='cadetblue')"
   ]
  },
  {
   "cell_type": "markdown",
   "id": "19fafc94",
   "metadata": {},
   "source": [
    "### How no of convenience stores affects House prices"
   ]
  },
  {
   "cell_type": "code",
   "execution_count": 8,
   "id": "b074f769",
   "metadata": {},
   "outputs": [
    {
     "data": {
      "text/plain": [
       "<BarContainer object of 414 artists>"
      ]
     },
     "execution_count": 8,
     "metadata": {},
     "output_type": "execute_result"
    },
    {
     "data": {
      "image/png": "[encoded data removed]",
      "text/plain": [
       "<Figure size 432x288 with 1 Axes>"
      ]
     },
     "metadata": {
      "needs_background": "light"
     },
     "output_type": "display_data"
    }
   ],
   "source": [
    "plt.bar(data['X4 number of convenience stores'],data['Y house price of unit area'],color='teal')"
   ]
  },
  {
   "cell_type": "markdown",
   "id": "1403642f",
   "metadata": {},
   "source": [
    "### How House age affects the Prices "
   ]
  },
  {
   "cell_type": "code",
   "execution_count": 9,
   "id": "d977b161",
   "metadata": {},
   "outputs": [
    {
     "data": {
      "text/plain": [
       "<BarContainer object of 414 artists>"
      ]
     },
     "execution_count": 9,
     "metadata": {},
     "output_type": "execute_result"
    },
    {
     "data": {
      "image/png": "[encoded data removed]",
      "text/plain": [
       "<Figure size 432x288 with 1 Axes>"
      ]
     },
     "metadata": {
      "needs_background": "light"
     },
     "output_type": "display_data"
    }
   ],
   "source": [
    "plt.bar(data['X2 house age'],data['Y house price of unit area'],color='cornflowerblue')"
   ]
  },
  {
   "cell_type": "markdown",
   "id": "0a91fad7",
   "metadata": {},
   "source": [
    "## How Latitude & Longitude affect the Prices"
   ]
  },
  {
   "cell_type": "code",
   "execution_count": 10,
   "id": "ab1bba40",
   "metadata": {},
   "outputs": [
    {
     "data": {
      "text/plain": [
       "<BarContainer object of 414 artists>"
      ]
     },
     "execution_count": 10,
     "metadata": {},
     "output_type": "execute_result"
    },
    {
     "data": {
      "image/png": "[encoded data removed]",
      "text/plain": [
       "<Figure size 432x288 with 1 Axes>"
      ]
     },
     "metadata": {
      "needs_background": "light"
     },
     "output_type": "display_data"
    }
   ],
   "source": [
    "plt.bar(data['X5 latitude'],data['Y house price of unit area'],color='lavender')"
   ]
  },
  {
   "cell_type": "code",
   "execution_count": 11,
   "id": "60a8c6f3",
   "metadata": {},
   "outputs": [
    {
     "data": {
      "text/plain": [
       "<BarContainer object of 414 artists>"
      ]
     },
     "execution_count": 11,
     "metadata": {},
     "output_type": "execute_result"
    },
    {
     "data": {
      "image/png": "[encoded data removed]",
      "text/plain": [
       "<Figure size 432x288 with 1 Axes>"
      ]
     },
     "metadata": {
      "needs_background": "light"
     },
     "output_type": "display_data"
    }
   ],
   "source": [
    "plt.bar(data['X6 longitude'],data['Y house price of unit area'],color='purple')"
   ]
  },
  {
   "cell_type": "markdown",
   "id": "b5dc3af8",
   "metadata": {},
   "source": [
    "### Lets check null values "
   ]
  },
  {
   "cell_type": "code",
   "execution_count": 12,
   "id": "2084161c",
   "metadata": {},
   "outputs": [
    {
     "data": {
      "text/plain": [
       "<AxesSubplot:>"
      ]
     },
     "execution_count": 12,
     "metadata": {},
     "output_type": "execute_result"
    },
    {
     "data": {
      "image/png": "[encoded data removed]",
      "text/plain": [
       "<Figure size 432x288 with 2 Axes>"
      ]
     },
     "metadata": {
      "needs_background": "light"
     },
     "output_type": "display_data"
    }
   ],
   "source": [
    "sns.heatmap(data.isnull())"
   ]
  },
  {
   "cell_type": "markdown",
   "id": "3c940280",
   "metadata": {},
   "source": [
    "### How is data distributed based on no of convenience stores"
   ]
  },
  {
   "cell_type": "code",
   "execution_count": 13,
   "id": "3908b946",
   "metadata": {},
   "outputs": [
    {
     "data": {
      "text/plain": [
       "<AxesSubplot:xlabel='X4 number of convenience stores', ylabel='count'>"
      ]
     },
     "execution_count": 13,
     "metadata": {},
     "output_type": "execute_result"
    },
    {
     "data": {
      "image/png": "[encoded data removed]",
      "text/plain": [
       "<Figure size 432x288 with 1 Axes>"
      ]
     },
     "metadata": {
      "needs_background": "light"
     },
     "output_type": "display_data"
    }
   ],
   "source": [
    "sns.countplot(x='X4 number of convenience stores',data=data)"
   ]
  },
  {
   "cell_type": "markdown",
   "id": "45ec3f9e",
   "metadata": {},
   "source": [
    "### Distribution of data set based on convenience stores"
   ]
  },
  {
   "cell_type": "code",
   "execution_count": 14,
   "id": "7a4c6c5d",
   "metadata": {},
   "outputs": [
    {
     "data": {
      "text/plain": [
       "<seaborn.axisgrid.FacetGrid at 0x20214ad6bb0>"
      ]
     },
     "execution_count": 14,
     "metadata": {},
     "output_type": "execute_result"
    },
    {
     "data": {
      "image/png": "[encoded data removed]",
      "text/plain": [
       "<Figure size 360x360 with 1 Axes>"
      ]
     },
     "metadata": {
      "needs_background": "light"
     },
     "output_type": "display_data"
    }
   ],
   "source": [
    "sns.catplot(x=\"X4 number of convenience stores\",y=\"Y house price of unit area\",data=data)"
   ]
  },
  {
   "cell_type": "markdown",
   "id": "2506213d",
   "metadata": {},
   "source": [
    "## Multicollinearity Check"
   ]
  },
  {
   "cell_type": "code",
   "execution_count": 15,
   "id": "82181007",
   "metadata": {},
   "outputs": [
    {
     "data": {
      "text/html": [
       "<div>\n",
       "<style scoped>\n",
       "    .dataframe tbody tr th:only-of-type {\n",
       "        vertical-align: middle;\n",
       "    }\n",
       "\n",
       "    .dataframe tbody tr th {\n",
       "        vertical-align: top;\n",
       "    }\n",
       "\n",
       "    .dataframe thead th {\n",
       "        text-align: right;\n",
       "    }\n",
       "</style>\n",
       "<table border=\"1\" class=\"dataframe\">\n",
       "  <thead>\n",
       "    <tr style=\"text-align: right;\">\n",
       "      <th></th>\n",
       "      <th>VIF</th>\n",
       "      <th>Features</th>\n",
       "    </tr>\n",
       "  </thead>\n",
       "  <tbody>\n",
       "    <tr>\n",
       "      <th>0</th>\n",
       "      <td>4.035051e+00</td>\n",
       "      <td>No</td>\n",
       "    </tr>\n",
       "    <tr>\n",
       "      <th>1</th>\n",
       "      <td>3.884903e+00</td>\n",
       "      <td>X2 house age</td>\n",
       "    </tr>\n",
       "    <tr>\n",
       "      <th>2</th>\n",
       "      <td>3.751429e+00</td>\n",
       "      <td>X3 distance to the nearest MRT station</td>\n",
       "    </tr>\n",
       "    <tr>\n",
       "      <th>3</th>\n",
       "      <td>5.162000e+00</td>\n",
       "      <td>X4 number of convenience stores</td>\n",
       "    </tr>\n",
       "    <tr>\n",
       "      <th>4</th>\n",
       "      <td>6.319008e+06</td>\n",
       "      <td>X5 latitude</td>\n",
       "    </tr>\n",
       "    <tr>\n",
       "      <th>5</th>\n",
       "      <td>6.312523e+06</td>\n",
       "      <td>X6 longitude</td>\n",
       "    </tr>\n",
       "    <tr>\n",
       "      <th>6</th>\n",
       "      <td>2.057939e+01</td>\n",
       "      <td>Y house price of unit area</td>\n",
       "    </tr>\n",
       "  </tbody>\n",
       "</table>\n",
       "</div>"
      ],
      "text/plain": [
       "            VIF                                Features\n",
       "0  4.035051e+00                                      No\n",
       "1  3.884903e+00                            X2 house age\n",
       "2  3.751429e+00  X3 distance to the nearest MRT station\n",
       "3  5.162000e+00         X4 number of convenience stores\n",
       "4  6.319008e+06                             X5 latitude\n",
       "5  6.312523e+06                            X6 longitude\n",
       "6  2.057939e+01              Y house price of unit area"
      ]
     },
     "execution_count": 15,
     "metadata": {},
     "output_type": "execute_result"
    }
   ],
   "source": [
    "from statsmodels.stats.outliers_influence import variance_inflation_factor\n",
    "variables=new_data[['No','X2 house age','X3 distance to the nearest MRT station','X4 number of convenience stores','X5 latitude','X6 longitude','Y house price of unit area']]\n",
    "vif=pd.DataFrame()\n",
    "vif[\"VIF\"]=[variance_inflation_factor(variables.values,i) for i in range(variables.shape[1])]\n",
    "vif[\"Features\"]=variables.columns\n",
    "vif"
   ]
  },
  {
   "cell_type": "code",
   "execution_count": 16,
   "id": "8bd55ac0",
   "metadata": {},
   "outputs": [],
   "source": [
    "x=new_data.drop('Y house price of unit area',axis=1)"
   ]
  },
  {
   "cell_type": "code",
   "execution_count": 17,
   "id": "b6e1b27d",
   "metadata": {},
   "outputs": [],
   "source": [
    "y=new_data['Y house price of unit area'].values"
   ]
  },
  {
   "cell_type": "code",
   "execution_count": 18,
   "id": "4942aabf",
   "metadata": {},
   "outputs": [
    {
     "data": {
      "text/html": [
       "<div>\n",
       "<style scoped>\n",
       "    .dataframe tbody tr th:only-of-type {\n",
       "        vertical-align: middle;\n",
       "    }\n",
       "\n",
       "    .dataframe tbody tr th {\n",
       "        vertical-align: top;\n",
       "    }\n",
       "\n",
       "    .dataframe thead th {\n",
       "        text-align: right;\n",
       "    }\n",
       "</style>\n",
       "<table border=\"1\" class=\"dataframe\">\n",
       "  <thead>\n",
       "    <tr style=\"text-align: right;\">\n",
       "      <th></th>\n",
       "      <th>No</th>\n",
       "      <th>X2 house age</th>\n",
       "      <th>X3 distance to the nearest MRT station</th>\n",
       "      <th>X4 number of convenience stores</th>\n",
       "      <th>X5 latitude</th>\n",
       "      <th>X6 longitude</th>\n",
       "    </tr>\n",
       "  </thead>\n",
       "  <tbody>\n",
       "    <tr>\n",
       "      <th>0</th>\n",
       "      <td>1</td>\n",
       "      <td>32.0</td>\n",
       "      <td>84.87882</td>\n",
       "      <td>10</td>\n",
       "      <td>24.98298</td>\n",
       "      <td>121.54024</td>\n",
       "    </tr>\n",
       "    <tr>\n",
       "      <th>1</th>\n",
       "      <td>2</td>\n",
       "      <td>19.5</td>\n",
       "      <td>306.59470</td>\n",
       "      <td>9</td>\n",
       "      <td>24.98034</td>\n",
       "      <td>121.53951</td>\n",
       "    </tr>\n",
       "    <tr>\n",
       "      <th>2</th>\n",
       "      <td>3</td>\n",
       "      <td>13.3</td>\n",
       "      <td>561.98450</td>\n",
       "      <td>5</td>\n",
       "      <td>24.98746</td>\n",
       "      <td>121.54391</td>\n",
       "    </tr>\n",
       "    <tr>\n",
       "      <th>3</th>\n",
       "      <td>4</td>\n",
       "      <td>13.3</td>\n",
       "      <td>561.98450</td>\n",
       "      <td>5</td>\n",
       "      <td>24.98746</td>\n",
       "      <td>121.54391</td>\n",
       "    </tr>\n",
       "    <tr>\n",
       "      <th>4</th>\n",
       "      <td>5</td>\n",
       "      <td>5.0</td>\n",
       "      <td>390.56840</td>\n",
       "      <td>5</td>\n",
       "      <td>24.97937</td>\n",
       "      <td>121.54245</td>\n",
       "    </tr>\n",
       "    <tr>\n",
       "      <th>...</th>\n",
       "      <td>...</td>\n",
       "      <td>...</td>\n",
       "      <td>...</td>\n",
       "      <td>...</td>\n",
       "      <td>...</td>\n",
       "      <td>...</td>\n",
       "    </tr>\n",
       "    <tr>\n",
       "      <th>409</th>\n",
       "      <td>410</td>\n",
       "      <td>13.7</td>\n",
       "      <td>4082.01500</td>\n",
       "      <td>0</td>\n",
       "      <td>24.94155</td>\n",
       "      <td>121.50381</td>\n",
       "    </tr>\n",
       "    <tr>\n",
       "      <th>410</th>\n",
       "      <td>411</td>\n",
       "      <td>5.6</td>\n",
       "      <td>90.45606</td>\n",
       "      <td>9</td>\n",
       "      <td>24.97433</td>\n",
       "      <td>121.54310</td>\n",
       "    </tr>\n",
       "    <tr>\n",
       "      <th>411</th>\n",
       "      <td>412</td>\n",
       "      <td>18.8</td>\n",
       "      <td>390.96960</td>\n",
       "      <td>7</td>\n",
       "      <td>24.97923</td>\n",
       "      <td>121.53986</td>\n",
       "    </tr>\n",
       "    <tr>\n",
       "      <th>412</th>\n",
       "      <td>413</td>\n",
       "      <td>8.1</td>\n",
       "      <td>104.81010</td>\n",
       "      <td>5</td>\n",
       "      <td>24.96674</td>\n",
       "      <td>121.54067</td>\n",
       "    </tr>\n",
       "    <tr>\n",
       "      <th>413</th>\n",
       "      <td>414</td>\n",
       "      <td>6.5</td>\n",
       "      <td>90.45606</td>\n",
       "      <td>9</td>\n",
       "      <td>24.97433</td>\n",
       "      <td>121.54310</td>\n",
       "    </tr>\n",
       "  </tbody>\n",
       "</table>\n",
       "<p>414 rows × 6 columns</p>\n",
       "</div>"
      ],
      "text/plain": [
       "      No  X2 house age  X3 distance to the nearest MRT station  \\\n",
       "0      1          32.0                                84.87882   \n",
       "1      2          19.5                               306.59470   \n",
       "2      3          13.3                               561.98450   \n",
       "3      4          13.3                               561.98450   \n",
       "4      5           5.0                               390.56840   \n",
       "..   ...           ...                                     ...   \n",
       "409  410          13.7                              4082.01500   \n",
       "410  411           5.6                                90.45606   \n",
       "411  412          18.8                               390.96960   \n",
       "412  413           8.1                               104.81010   \n",
       "413  414           6.5                                90.45606   \n",
       "\n",
       "     X4 number of convenience stores  X5 latitude  X6 longitude  \n",
       "0                                 10     24.98298     121.54024  \n",
       "1                                  9     24.98034     121.53951  \n",
       "2                                  5     24.98746     121.54391  \n",
       "3                                  5     24.98746     121.54391  \n",
       "4                                  5     24.97937     121.54245  \n",
       "..                               ...          ...           ...  \n",
       "409                                0     24.94155     121.50381  \n",
       "410                                9     24.97433     121.54310  \n",
       "411                                7     24.97923     121.53986  \n",
       "412                                5     24.96674     121.54067  \n",
       "413                                9     24.97433     121.54310  \n",
       "\n",
       "[414 rows x 6 columns]"
      ]
     },
     "execution_count": 18,
     "metadata": {},
     "output_type": "execute_result"
    }
   ],
   "source": [
    "x"
   ]
  },
  {
   "cell_type": "code",
   "execution_count": 19,
   "id": "e4e7a702",
   "metadata": {},
   "outputs": [
    {
     "data": {
      "text/plain": [
       "array([ 37.9,  42.2,  47.3,  54.8,  43.1,  32.1,  40.3,  46.7,  18.8,\n",
       "        22.1,  41.4,  58.1,  39.3,  23.8,  34.3,  50.5,  70.1,  37.4,\n",
       "        42.3,  47.7,  29.3,  51.6,  24.6,  47.9,  38.8,  27. ,  56.2,\n",
       "        33.6,  47. ,  57.1,  22.1,  25. ,  34.2,  49.3,  55.1,  27.3,\n",
       "        22.9,  25.3,  47.7,  46.2,  15.9,  18.2,  34.7,  34.1,  53.9,\n",
       "        38.3,  42. ,  61.5,  13.4,  13.2,  44.2,  20.7,  27. ,  38.9,\n",
       "        51.7,  13.7,  41.9,  53.5,  22.6,  42.4,  21.3,  63.2,  27.7,\n",
       "        55. ,  25.3,  44.3,  50.7,  56.8,  36.2,  42. ,  59. ,  40.8,\n",
       "        36.3,  20. ,  54.4,  29.5,  36.8,  25.6,  29.8,  26.5,  40.3,\n",
       "        36.8,  48.1,  17.7,  43.7,  50.8,  27. ,  18.3,  48. ,  25.3,\n",
       "        45.4,  43.2,  21.8,  16.1,  41. ,  51.8,  59.5,  34.6,  51. ,\n",
       "        62.2,  38.2,  32.9,  54.4,  45.7,  30.5,  71. ,  47.1,  26.6,\n",
       "        34.1,  28.4,  51.6,  39.4,  23.1,   7.6,  53.3,  46.4,  12.2,\n",
       "        13. ,  30.6,  59.6,  31.3,  48. ,  32.5,  45.5,  57.4,  48.6,\n",
       "        62.9,  55. ,  60.7,  41. ,  37.5,  30.7,  37.5,  39.5,  42.2,\n",
       "        20.8,  46.8,  47.4,  43.5,  42.5,  51.4,  28.9,  37.5,  40.1,\n",
       "        28.4,  45.5,  52.2,  43.2,  45.1,  39.7,  48.5,  44.7,  28.9,\n",
       "        40.9,  20.7,  15.6,  18.3,  35.6,  39.4,  37.4,  57.8,  39.6,\n",
       "        11.6,  55.5,  55.2,  30.6,  73.6,  43.4,  37.4,  23.5,  14.4,\n",
       "        58.8,  58.1,  35.1,  45.2,  36.5,  19.2,  42. ,  36.7,  42.6,\n",
       "        15.5,  55.9,  23.6,  18.8,  21.8,  21.5,  25.7,  22. ,  44.3,\n",
       "        20.5,  42.3,  37.8,  42.7,  49.3,  29.3,  34.6,  36.6,  48.2,\n",
       "        39.1,  31.6,  25.5,  45.9,  31.5,  46.1,  26.6,  21.4,  44. ,\n",
       "        34.2,  26.2,  40.9,  52.2,  43.5,  31.1,  58. ,  20.9,  48.1,\n",
       "        39.7,  40.8,  43.8,  40.2,  78.3,  38.5,  48.5,  42.3,  46. ,\n",
       "        49. ,  12.8,  40.2,  46.6,  19. ,  33.4,  14.7,  17.4,  32.4,\n",
       "        23.9,  39.3,  61.9,  39. ,  40.6,  29.7,  28.8,  41.4,  33.4,\n",
       "        48.2,  21.7,  40.8,  40.6,  23.1,  22.3,  15. ,  30. ,  13.8,\n",
       "        52.7,  25.9,  51.8,  17.4,  26.5,  43.9,  63.3,  28.8,  30.7,\n",
       "        24.4,  53. ,  31.7,  40.6,  38.1,  23.7,  41.1,  40.1,  23. ,\n",
       "       117.5,  26.5,  40.5,  29.3,  41. ,  49.7,  34. ,  27.7,  44. ,\n",
       "        31.1,  45.4,  44.8,  25.6,  23.5,  34.4,  55.3,  56.3,  32.9,\n",
       "        51. ,  44.5,  37. ,  54.4,  24.5,  42.5,  38.1,  21.8,  34.1,\n",
       "        28.5,  16.7,  46.1,  36.9,  35.7,  23.2,  38.4,  29.4,  55. ,\n",
       "        50.2,  24.7,  53. ,  19.1,  24.7,  42.2,  78. ,  42.8,  41.6,\n",
       "        27.3,  42. ,  37.5,  49.8,  26.9,  18.6,  37.7,  33.1,  42.5,\n",
       "        31.3,  38.1,  62.1,  36.7,  23.6,  19.2,  12.8,  15.6,  39.6,\n",
       "        38.4,  22.8,  36.5,  35.6,  30.9,  36.3,  50.4,  42.9,  37. ,\n",
       "        53.5,  46.6,  41.2,  37.9,  30.8,  11.2,  53.7,  47. ,  42.3,\n",
       "        28.6,  25.7,  31.3,  30.1,  60.7,  45.3,  44.9,  45.1,  24.7,\n",
       "        47.1,  63.3,  40. ,  48. ,  33.1,  29.5,  24.8,  20.9,  43.1,\n",
       "        22.8,  42.1,  51.7,  41.5,  52.2,  49.5,  23.8,  30.5,  56.8,\n",
       "        37.4,  69.7,  53.3,  47.3,  29.3,  40.3,  12.9,  46.6,  55.3,\n",
       "        25.6,  27.3,  67.7,  38.6,  31.3,  35.3,  40.3,  24.7,  42.5,\n",
       "        31.9,  32.2,  23. ,  37.3,  35.5,  27.7,  28.5,  39.7,  41.2,\n",
       "        37.2,  40.5,  22.3,  28.1,  15.4,  50. ,  40.6,  52.5,  63.9])"
      ]
     },
     "execution_count": 19,
     "metadata": {},
     "output_type": "execute_result"
    }
   ],
   "source": [
    "y"
   ]
  },
  {
   "cell_type": "markdown",
   "id": "3e7bde81",
   "metadata": {},
   "source": [
    "## Dividing the dataset into training and testing"
   ]
  },
  {
   "cell_type": "code",
   "execution_count": 20,
   "id": "cfce406e",
   "metadata": {},
   "outputs": [],
   "source": [
    "from sklearn.model_selection import train_test_split\n",
    "x_train,x_test,y_train,y_test=train_test_split(x,y,test_size=0.2,random_state=1)"
   ]
  },
  {
   "cell_type": "markdown",
   "id": "b5505c4c",
   "metadata": {},
   "source": [
    "# Linear Regression"
   ]
  },
  {
   "cell_type": "code",
   "execution_count": 21,
   "id": "a2461e9b",
   "metadata": {},
   "outputs": [],
   "source": [
    "from sklearn.linear_model import LinearRegression"
   ]
  },
  {
   "cell_type": "code",
   "execution_count": 22,
   "id": "f3c777a7",
   "metadata": {},
   "outputs": [],
   "source": [
    "lr=LinearRegression()\n",
    "lr.fit(x_train,y_train)\n",
    "y_pred=lr.predict(x_test)"
   ]
  },
  {
   "cell_type": "code",
   "execution_count": 23,
   "id": "e19af495",
   "metadata": {},
   "outputs": [
    {
     "data": {
      "text/plain": [
       "array([32.78065939, 47.98929099, 22.10204458, 15.19761209, 44.8503255 ,\n",
       "       33.03786286, 31.05280125, 44.00665979, 40.30993799, 12.56722022,\n",
       "       13.77746172, 39.43262863, 30.71859464, 45.59570017, 52.25219038,\n",
       "       34.01472381, 44.65125359, 43.33340939, 31.71243969, 46.02402495,\n",
       "       52.27238987, 30.15241433, 40.47046534, 48.62622939, 46.39465931,\n",
       "       28.72443706, 34.34073884, 45.75422988, 48.28585537, 14.37856332,\n",
       "       35.78285408, 35.23314358, 40.85518389, 45.28666077, 48.78751661,\n",
       "       14.27202333, 41.19057258, 40.77551918, 38.58015579, 15.07816662,\n",
       "       42.23266743, 25.61823274, 52.26468864, 34.85166726, 33.43040641,\n",
       "       39.42818078, 32.57087748, 40.78647438, 43.9195324 , 34.06604938,\n",
       "       13.96305133, 43.2622446 , 47.75304284, 14.9461883 , 51.48570393,\n",
       "       43.63558398, 44.38472756, 39.31526305, 40.67677346, 42.44953326,\n",
       "       25.19986839, 41.91767658, 33.81276352, 13.92323617, 40.57187188,\n",
       "       44.24295865, 39.34373696, 45.86524101, 15.57828353, 39.61211087,\n",
       "       46.65745109, 12.30268516, 35.27522658, 39.6486677 , 52.12320726,\n",
       "       40.29280907, 37.51946593, 39.118496  , 41.46308389, 46.26191869,\n",
       "       44.2904081 , 43.15709315, 48.64289589])"
      ]
     },
     "execution_count": 23,
     "metadata": {},
     "output_type": "execute_result"
    }
   ],
   "source": [
    "y_pred"
   ]
  },
  {
   "cell_type": "code",
   "execution_count": 24,
   "id": "ccf60a3a",
   "metadata": {},
   "outputs": [
    {
     "data": {
      "text/plain": [
       "array([27.3, 54.4, 22. , 11.6, 45.4, 23. , 21.8, 32.2, 37.4, 22.6, 17.4,\n",
       "       36.8, 23.1, 36.9, 56.3, 20.9, 43.5, 40.3, 27.7, 42.1, 46.6, 21.8,\n",
       "       38.1, 53.7, 57.1, 26.6, 32.1, 56.8, 43.1, 16.7, 33.4, 34.2, 39.6,\n",
       "       52.5, 47.1, 13. , 37.5, 32.5, 42.3, 20.5, 40.3, 16.1, 58.1, 33.4,\n",
       "       30.8, 21.7, 20.9, 42.5, 38.1, 39.6, 18.6, 44.3, 39.7, 15.4, 50.8,\n",
       "       36.3, 52.2, 37.8, 26.5, 42.5, 12.8, 32.9, 29.4, 19.2, 42.6, 32.4,\n",
       "       42.7, 42.3, 15.9, 43.9, 44.5, 15.5, 29.8, 24.5, 50. , 37.2, 30.9,\n",
       "       37. , 33.1, 59.6, 40.8, 52.2, 47.1])"
      ]
     },
     "execution_count": 24,
     "metadata": {},
     "output_type": "execute_result"
    }
   ],
   "source": [
    "y_test"
   ]
  },
  {
   "cell_type": "code",
   "execution_count": 25,
   "id": "3e9ef7d1",
   "metadata": {},
   "outputs": [],
   "source": [
    "from sklearn.metrics import mean_squared_error,r2_score"
   ]
  },
  {
   "cell_type": "code",
   "execution_count": 26,
   "id": "12e6c779",
   "metadata": {},
   "outputs": [],
   "source": [
    "r_squared=r2_score(y_test,y_pred)"
   ]
  },
  {
   "cell_type": "code",
   "execution_count": 27,
   "id": "f397f19a",
   "metadata": {},
   "outputs": [
    {
     "data": {
      "text/plain": [
       "0.7049569023103226"
      ]
     },
     "execution_count": 27,
     "metadata": {},
     "output_type": "execute_result"
    }
   ],
   "source": [
    "r_squared"
   ]
  },
  {
   "cell_type": "code",
   "execution_count": 28,
   "id": "b48a501e",
   "metadata": {},
   "outputs": [],
   "source": [
    "mse=mean_squared_error(y_test,y_pred)"
   ]
  },
  {
   "cell_type": "code",
   "execution_count": 29,
   "id": "ab817a10",
   "metadata": {},
   "outputs": [
    {
     "data": {
      "text/plain": [
       "44.783427301026805"
      ]
     },
     "execution_count": 29,
     "metadata": {},
     "output_type": "execute_result"
    }
   ],
   "source": [
    "mse"
   ]
  },
  {
   "cell_type": "code",
   "execution_count": 30,
   "id": "646045df",
   "metadata": {},
   "outputs": [
    {
     "data": {
      "image/png": "[encoded data removed]",
      "text/plain": [
       "<Figure size 720x576 with 1 Axes>"
      ]
     },
     "metadata": {
      "needs_background": "light"
     },
     "output_type": "display_data"
    }
   ],
   "source": [
    "\n",
    "plt.figure(figsize=(10,8))\n",
    "\n",
    "def plot_regression(real, predicted, color, title):\n",
    "    plt.scatter(real, predicted, color=color)\n",
    "    plt.plot([real.min(), real.max()], [real.min(), real.max()], 'k--', lw=4)\n",
    "    plt.xlabel('Real Price')\n",
    "    plt.ylabel('Predicted')\n",
    "    plt.title(title)\n",
    "    \n",
    "#Real price vs train-test predictions plot \n",
    "plt.subplot(131)\n",
    "plot_regression(y_test, y_pred, 'slateblue', 'Linear Regression Predictions \\nTrain-test split')\n",
    "plt.show()"
   ]
  },
  {
   "cell_type": "markdown",
   "id": "788295d8",
   "metadata": {},
   "source": [
    "## Decision Tree Regression"
   ]
  },
  {
   "cell_type": "code",
   "execution_count": 31,
   "id": "24bca3b1",
   "metadata": {},
   "outputs": [
    {
     "data": {
      "text/plain": [
       "DecisionTreeRegressor(random_state=0)"
      ]
     },
     "execution_count": 31,
     "metadata": {},
     "output_type": "execute_result"
    }
   ],
   "source": [
    "from sklearn.tree import DecisionTreeRegressor,plot_tree\n",
    "dtr=DecisionTreeRegressor(random_state=0)\n",
    "dtr.fit(x_train,y_train)"
   ]
  },
  {
   "cell_type": "code",
   "execution_count": 32,
   "id": "28b29c60",
   "metadata": {},
   "outputs": [],
   "source": [
    "y_pred_dtr=dtr.predict(x_test)"
   ]
  },
  {
   "cell_type": "code",
   "execution_count": 33,
   "id": "d58a7071",
   "metadata": {},
   "outputs": [
    {
     "data": {
      "text/plain": [
       "array([27.3, 54.4, 22. , 11.6, 45.4, 23. , 21.8, 32.2, 37.4, 22.6, 17.4,\n",
       "       36.8, 23.1, 36.9, 56.3, 20.9, 43.5, 40.3, 27.7, 42.1, 46.6, 21.8,\n",
       "       38.1, 53.7, 57.1, 26.6, 32.1, 56.8, 43.1, 16.7, 33.4, 34.2, 39.6,\n",
       "       52.5, 47.1, 13. , 37.5, 32.5, 42.3, 20.5, 40.3, 16.1, 58.1, 33.4,\n",
       "       30.8, 21.7, 20.9, 42.5, 38.1, 39.6, 18.6, 44.3, 39.7, 15.4, 50.8,\n",
       "       36.3, 52.2, 37.8, 26.5, 42.5, 12.8, 32.9, 29.4, 19.2, 42.6, 32.4,\n",
       "       42.7, 42.3, 15.9, 43.9, 44.5, 15.5, 29.8, 24.5, 50. , 37.2, 30.9,\n",
       "       37. , 33.1, 59.6, 40.8, 52.2, 47.1])"
      ]
     },
     "execution_count": 33,
     "metadata": {},
     "output_type": "execute_result"
    }
   ],
   "source": [
    "y_test"
   ]
  },
  {
   "cell_type": "code",
   "execution_count": 34,
   "id": "3b8129df",
   "metadata": {},
   "outputs": [
    {
     "data": {
      "text/plain": [
       "[Text(442.9251358695652, 369.32823529411763, 'X[2] <= 902.569\\nmse = 223.383\\nsamples = 83\\nvalue = 37.548'),\n",
       " Text(231.61548913043478, 346.94470588235293, 'X[1] <= 6.85\\nmse = 120.563\\nsamples = 52\\nvalue = 46.2'),\n",
       " Text(64.69565217391305, 324.56117647058824, 'X[5] <= 121.531\\nmse = 96.706\\nsamples = 12\\nvalue = 57.608'),\n",
       " Text(38.81739130434782, 302.1776470588235, 'X[0] <= 293.0\\nmse = 2.629\\nsamples = 3\\nvalue = 71.433'),\n",
       " Text(25.878260869565217, 279.7941176470588, 'X[0] <= 151.5\\nmse = 1.69\\nsamples = 2\\nvalue = 72.3'),\n",
       " Text(12.939130434782609, 257.4105882352941, 'mse = 0.0\\nsamples = 1\\nvalue = 71.0'),\n",
       " Text(38.81739130434782, 257.4105882352941, 'mse = 0.0\\nsamples = 1\\nvalue = 73.6'),\n",
       " Text(51.756521739130434, 279.7941176470588, 'mse = -0.0\\nsamples = 1\\nvalue = 69.7'),\n",
       " Text(90.57391304347826, 302.1776470588235, 'X[1] <= 6.25\\nmse = 43.118\\nsamples = 9\\nvalue = 53.0'),\n",
       " Text(77.63478260869564, 279.7941176470588, 'X[5] <= 121.545\\nmse = 31.8\\nsamples = 8\\nvalue = 51.637'),\n",
       " Text(64.69565217391305, 257.4105882352941, 'X[0] <= 94.5\\nmse = 14.516\\nsamples = 7\\nvalue = 49.986'),\n",
       " Text(32.34782608695652, 235.0270588235294, 'X[0] <= 45.5\\nmse = 2.25\\nsamples = 2\\nvalue = 46.2'),\n",
       " Text(19.40869565217391, 212.6435294117647, 'mse = 0.0\\nsamples = 1\\nvalue = 44.7'),\n",
       " Text(45.28695652173913, 212.6435294117647, 'mse = 0.0\\nsamples = 1\\nvalue = 47.7'),\n",
       " Text(97.04347826086956, 235.0270588235294, 'X[4] <= 24.969\\nmse = 11.396\\nsamples = 5\\nvalue = 51.5'),\n",
       " Text(71.16521739130435, 212.6435294117647, 'X[1] <= 1.8\\nmse = 7.023\\nsamples = 2\\nvalue = 48.05'),\n",
       " Text(58.22608695652174, 190.26, 'mse = 0.0\\nsamples = 1\\nvalue = 50.7'),\n",
       " Text(84.10434782608695, 190.26, 'mse = 0.0\\nsamples = 1\\nvalue = 45.4'),\n",
       " Text(122.92173913043479, 212.6435294117647, 'X[1] <= 2.8\\nmse = 1.087\\nsamples = 3\\nvalue = 53.8'),\n",
       " Text(109.98260869565217, 190.26, 'mse = 0.0\\nsamples = 1\\nvalue = 55.2'),\n",
       " Text(135.8608695652174, 190.26, 'X[1] <= 5.75\\nmse = 0.16\\nsamples = 2\\nvalue = 53.1'),\n",
       " Text(122.92173913043479, 167.8764705882353, 'mse = 0.0\\nsamples = 1\\nvalue = 53.5'),\n",
       " Text(148.8, 167.8764705882353, 'mse = 0.0\\nsamples = 1\\nvalue = 52.7'),\n",
       " Text(90.57391304347826, 257.4105882352941, 'mse = 0.0\\nsamples = 1\\nvalue = 63.2'),\n",
       " Text(103.51304347826087, 279.7941176470588, 'mse = 0.0\\nsamples = 1\\nvalue = 63.9'),\n",
       " Text(398.5353260869565, 324.56117647058824, 'X[1] <= 39.95\\nmse = 76.961\\nsamples = 40\\nvalue = 42.777'),\n",
       " Text(348.2445652173913, 302.1776470588235, 'X[4] <= 24.982\\nmse = 54.942\\nsamples = 38\\nvalue = 41.65'),\n",
       " Text(286.4804347826087, 279.7941176470588, 'X[5] <= 121.549\\nmse = 47.701\\nsamples = 32\\nvalue = 40.094'),\n",
       " Text(240.58695652173913, 257.4105882352941, 'X[0] <= 73.5\\nmse = 34.438\\nsamples = 30\\nvalue = 39.08'),\n",
       " Text(187.61739130434782, 235.0270588235294, 'X[3] <= 7.5\\nmse = 35.862\\nsamples = 5\\nvalue = 47.32'),\n",
       " Text(174.6782608695652, 212.6435294117647, 'X[5] <= 121.534\\nmse = 24.727\\nsamples = 4\\nvalue = 49.325'),\n",
       " Text(161.7391304347826, 190.26, 'mse = 0.0\\nsamples = 1\\nvalue = 41.4'),\n",
       " Text(187.61739130434782, 190.26, 'X[1] <= 21.5\\nmse = 5.056\\nsamples = 3\\nvalue = 51.967'),\n",
       " Text(174.6782608695652, 167.8764705882353, 'X[0] <= 49.0\\nmse = 1.563\\nsamples = 2\\nvalue = 50.55'),\n",
       " Text(161.7391304347826, 145.49294117647057, 'mse = 0.0\\nsamples = 1\\nvalue = 49.3'),\n",
       " Text(187.61739130434782, 145.49294117647057, 'mse = 0.0\\nsamples = 1\\nvalue = 51.8'),\n",
       " Text(200.55652173913043, 167.8764705882353, 'mse = -0.0\\nsamples = 1\\nvalue = 54.8'),\n",
       " Text(200.55652173913043, 212.6435294117647, 'mse = -0.0\\nsamples = 1\\nvalue = 39.3'),\n",
       " Text(293.55652173913046, 235.0270588235294, 'X[1] <= 37.4\\nmse = 17.857\\nsamples = 25\\nvalue = 37.432'),\n",
       " Text(253.9304347826087, 212.6435294117647, 'X[4] <= 24.957\\nmse = 13.629\\nsamples = 21\\nvalue = 38.505'),\n",
       " Text(240.9913043478261, 190.26, 'mse = 0.0\\nsamples = 1\\nvalue = 26.9'),\n",
       " Text(266.8695652173913, 190.26, 'X[0] <= 92.0\\nmse = 7.24\\nsamples = 20\\nvalue = 39.085'),\n",
       " Text(226.43478260869566, 167.8764705882353, 'X[0] <= 81.5\\nmse = 5.29\\nsamples = 2\\nvalue = 33.9'),\n",
       " Text(213.49565217391304, 145.49294117647057, 'mse = 0.0\\nsamples = 1\\nvalue = 31.6'),\n",
       " Text(239.37391304347827, 145.49294117647057, 'mse = -0.0\\nsamples = 1\\nvalue = 36.2'),\n",
       " Text(307.30434782608694, 167.8764705882353, 'X[0] <= 338.5\\nmse = 4.138\\nsamples = 18\\nvalue = 39.661'),\n",
       " Text(265.25217391304346, 145.49294117647057, 'X[2] <= 337.378\\nmse = 3.939\\nsamples = 15\\nvalue = 39.273'),\n",
       " Text(232.90434782608696, 123.1094117647059, 'X[5] <= 121.542\\nmse = 1.907\\nsamples = 4\\nvalue = 37.375'),\n",
       " Text(219.96521739130435, 100.72588235294114, 'X[2] <= 261.505\\nmse = 0.72\\nsamples = 3\\nvalue = 36.7'),\n",
       " Text(207.02608695652174, 78.34235294117644, 'mse = 0.0\\nsamples = 2\\nvalue = 37.3'),\n",
       " Text(232.90434782608696, 78.34235294117644, 'mse = 0.0\\nsamples = 1\\nvalue = 35.5'),\n",
       " Text(245.84347826086957, 100.72588235294114, 'mse = -0.0\\nsamples = 1\\nvalue = 39.4'),\n",
       " Text(297.6, 123.1094117647059, 'X[2] <= 405.311\\nmse = 2.891\\nsamples = 11\\nvalue = 39.964'),\n",
       " Text(271.7217391304348, 100.72588235294114, 'X[3] <= 3.0\\nmse = 0.122\\nsamples = 2\\nvalue = 42.75'),\n",
       " Text(258.7826086956522, 78.34235294117644, 'mse = 0.0\\nsamples = 1\\nvalue = 43.1'),\n",
       " Text(284.6608695652174, 78.34235294117644, 'mse = -0.0\\nsamples = 1\\nvalue = 42.4'),\n",
       " Text(323.4782608695652, 100.72588235294114, 'X[0] <= 332.0\\nmse = 1.398\\nsamples = 9\\nvalue = 39.344'),\n",
       " Text(310.5391304347826, 78.34235294117644, 'X[2] <= 485.789\\nmse = 1.041\\nsamples = 8\\nvalue = 39.588'),\n",
       " Text(284.6608695652174, 55.958823529411745, 'X[3] <= 4.5\\nmse = 0.562\\nsamples = 4\\nvalue = 38.75'),\n",
       " Text(271.7217391304348, 33.57529411764705, 'X[4] <= 24.979\\nmse = 0.056\\nsamples = 3\\nvalue = 39.167'),\n",
       " Text(258.7826086956522, 11.191764705882349, 'mse = 0.0\\nsamples = 2\\nvalue = 39.0'),\n",
       " Text(284.6608695652174, 11.191764705882349, 'mse = 0.0\\nsamples = 1\\nvalue = 39.5'),\n",
       " Text(297.6, 33.57529411764705, 'mse = 0.0\\nsamples = 1\\nvalue = 37.5'),\n",
       " Text(336.4173913043478, 55.958823529411745, 'X[5] <= 121.541\\nmse = 0.117\\nsamples = 4\\nvalue = 40.425'),\n",
       " Text(323.4782608695652, 33.57529411764705, 'mse = 0.0\\nsamples = 2\\nvalue = 40.1'),\n",
       " Text(349.3565217391304, 33.57529411764705, 'X[0] <= 286.0\\nmse = 0.023\\nsamples = 2\\nvalue = 40.75'),\n",
       " Text(336.4173913043478, 11.191764705882349, 'mse = 0.0\\nsamples = 1\\nvalue = 40.9'),\n",
       " Text(362.295652173913, 11.191764705882349, 'mse = 0.0\\nsamples = 1\\nvalue = 40.6'),\n",
       " Text(336.4173913043478, 78.34235294117644, 'mse = 0.0\\nsamples = 1\\nvalue = 37.4'),\n",
       " Text(349.3565217391304, 145.49294117647057, 'X[4] <= 24.968\\nmse = 0.62\\nsamples = 3\\nvalue = 41.6'),\n",
       " Text(336.4173913043478, 123.1094117647059, 'mse = 0.0\\nsamples = 1\\nvalue = 40.5'),\n",
       " Text(362.295652173913, 123.1094117647059, 'X[3] <= 6.5\\nmse = 0.023\\nsamples = 2\\nvalue = 42.15'),\n",
       " Text(349.3565217391304, 100.72588235294114, 'mse = 0.0\\nsamples = 1\\nvalue = 42.3'),\n",
       " Text(375.23478260869564, 100.72588235294114, 'mse = 0.0\\nsamples = 1\\nvalue = 42.0'),\n",
       " Text(333.18260869565216, 212.6435294117647, 'X[1] <= 38.35\\nmse = 2.295\\nsamples = 4\\nvalue = 31.8'),\n",
       " Text(320.24347826086955, 190.26, 'mse = 0.0\\nsamples = 1\\nvalue = 34.2'),\n",
       " Text(346.1217391304348, 190.26, 'X[5] <= 121.538\\nmse = 0.5\\nsamples = 3\\nvalue = 31.0'),\n",
       " Text(333.18260869565216, 167.8764705882353, 'mse = 0.0\\nsamples = 2\\nvalue = 31.5'),\n",
       " Text(359.0608695652174, 167.8764705882353, 'mse = 0.0\\nsamples = 1\\nvalue = 30.0'),\n",
       " Text(332.37391304347824, 257.4105882352941, 'X[0] <= 267.0\\nmse = 0.0\\nsamples = 2\\nvalue = 55.3'),\n",
       " Text(319.4347826086956, 235.0270588235294, 'mse = 0.0\\nsamples = 1\\nvalue = 55.3'),\n",
       " Text(345.31304347826085, 235.0270588235294, 'mse = 0.0\\nsamples = 1\\nvalue = 55.3'),\n",
       " Text(410.0086956521739, 279.7941176470588, 'X[4] <= 24.983\\nmse = 11.756\\nsamples = 6\\nvalue = 49.95'),\n",
       " Text(384.1304347826087, 257.4105882352941, 'X[0] <= 205.0\\nmse = 2.687\\nsamples = 3\\nvalue = 53.1'),\n",
       " Text(371.1913043478261, 235.0270588235294, 'mse = 0.0\\nsamples = 1\\nvalue = 51.0'),\n",
       " Text(397.0695652173913, 235.0270588235294, 'X[0] <= 330.5\\nmse = 0.722\\nsamples = 2\\nvalue = 54.15'),\n",
       " Text(384.1304347826087, 212.6435294117647, 'mse = 0.0\\nsamples = 1\\nvalue = 53.3'),\n",
       " Text(410.0086956521739, 212.6435294117647, 'mse = -0.0\\nsamples = 1\\nvalue = 55.0'),\n",
       " Text(435.88695652173914, 257.4105882352941, 'X[2] <= 124.622\\nmse = 0.98\\nsamples = 3\\nvalue = 46.8'),\n",
       " Text(422.9478260869565, 235.0270588235294, 'mse = 0.0\\nsamples = 2\\nvalue = 46.1'),\n",
       " Text(448.82608695652175, 235.0270588235294, 'mse = 0.0\\nsamples = 1\\nvalue = 48.2'),\n",
       " Text(448.82608695652175, 302.1776470588235, 'X[0] <= 129.5\\nmse = 12.25\\nsamples = 2\\nvalue = 64.2'),\n",
       " Text(435.88695652173914, 279.7941176470588, 'mse = 0.0\\nsamples = 1\\nvalue = 60.7'),\n",
       " Text(461.76521739130436, 279.7941176470588, 'mse = 0.0\\nsamples = 1\\nvalue = 67.7'),\n",
       " Text(654.2347826086957, 346.94470588235293, 'X[4] <= 24.951\\nmse = 59.676\\nsamples = 31\\nvalue = 23.035'),\n",
       " Text(558.8086956521739, 324.56117647058824, 'X[0] <= 370.5\\nmse = 13.139\\nsamples = 13\\nvalue = 15.946'),\n",
       " Text(545.8695652173913, 302.1776470588235, 'X[0] <= 266.0\\nmse = 7.316\\nsamples = 12\\nvalue = 15.217'),\n",
       " Text(513.5217391304348, 279.7941176470588, 'X[4] <= 24.946\\nmse = 7.36\\nsamples = 8\\nvalue = 16.3'),\n",
       " Text(487.6434782608696, 257.4105882352941, 'X[2] <= 4074.301\\nmse = 3.24\\nsamples = 4\\nvalue = 18.6'),\n",
       " Text(474.704347826087, 235.0270588235294, 'X[1] <= 16.15\\nmse = 2.56\\nsamples = 2\\nvalue = 17.2'),\n",
       " Text(461.76521739130436, 212.6435294117647, 'mse = 0.0\\nsamples = 1\\nvalue = 15.6'),\n",
       " Text(487.6434782608696, 212.6435294117647, 'mse = 0.0\\nsamples = 1\\nvalue = 18.8'),\n",
       " Text(500.5826086956522, 235.0270588235294, 'mse = -0.0\\nsamples = 2\\nvalue = 20.0'),\n",
       " Text(539.4, 257.4105882352941, 'X[0] <= 207.0\\nmse = 0.9\\nsamples = 4\\nvalue = 14.0'),\n",
       " Text(526.4608695652174, 235.0270588235294, 'X[5] <= 121.513\\nmse = 0.062\\nsamples = 3\\nvalue = 13.467'),\n",
       " Text(513.5217391304348, 212.6435294117647, 'X[3] <= 0.5\\nmse = 0.01\\nsamples = 2\\nvalue = 13.3'),\n",
       " Text(500.5826086956522, 190.26, 'mse = 0.0\\nsamples = 1\\nvalue = 13.4'),\n",
       " Text(526.4608695652174, 190.26, 'mse = -0.0\\nsamples = 1\\nvalue = 13.2'),\n",
       " Text(539.4, 212.6435294117647, 'mse = 0.0\\nsamples = 1\\nvalue = 13.8'),\n",
       " Text(552.3391304347826, 235.0270588235294, 'mse = -0.0\\nsamples = 1\\nvalue = 15.6'),\n",
       " Text(578.2173913043479, 279.7941176470588, 'X[2] <= 2619.396\\nmse = 0.187\\nsamples = 4\\nvalue = 13.05'),\n",
       " Text(565.2782608695652, 257.4105882352941, 'mse = 0.0\\nsamples = 1\\nvalue = 13.8'),\n",
       " Text(591.1565217391304, 257.4105882352941, 'mse = -0.0\\nsamples = 3\\nvalue = 12.8'),\n",
       " Text(571.7478260869565, 302.1776470588235, 'mse = 0.0\\nsamples = 1\\nvalue = 24.7'),\n",
       " Text(749.6608695652174, 324.56117647058824, 'X[4] <= 24.979\\nmse = 30.774\\nsamples = 18\\nvalue = 28.156'),\n",
       " Text(701.1391304347826, 302.1776470588235, 'X[1] <= 14.85\\nmse = 8.369\\nsamples = 16\\nvalue = 26.456'),\n",
       " Text(642.9130434782609, 279.7941176470588, 'X[0] <= 209.5\\nmse = 6.831\\nsamples = 8\\nvalue = 28.512'),\n",
       " Text(617.0347826086957, 257.4105882352941, 'X[0] <= 97.0\\nmse = 0.202\\nsamples = 2\\nvalue = 24.25'),\n",
       " Text(604.0956521739131, 235.0270588235294, 'mse = 0.0\\nsamples = 1\\nvalue = 23.8'),\n",
       " Text(629.9739130434782, 235.0270588235294, 'mse = 0.0\\nsamples = 1\\nvalue = 24.7'),\n",
       " Text(668.7913043478261, 257.4105882352941, 'X[1] <= 3.0\\nmse = 0.966\\nsamples = 6\\nvalue = 29.933'),\n",
       " Text(655.8521739130434, 235.0270588235294, 'mse = 0.0\\nsamples = 1\\nvalue = 31.7'),\n",
       " Text(681.7304347826087, 235.0270588235294, 'X[5] <= 121.516\\nmse = 0.41\\nsamples = 5\\nvalue = 29.58'),\n",
       " Text(655.8521739130434, 212.6435294117647, 'X[0] <= 317.0\\nmse = 0.08\\nsamples = 3\\nvalue = 29.1'),\n",
       " Text(642.9130434782609, 190.26, 'mse = 0.0\\nsamples = 2\\nvalue = 28.9'),\n",
       " Text(668.7913043478261, 190.26, 'mse = 0.0\\nsamples = 1\\nvalue = 29.5'),\n",
       " Text(707.6086956521739, 212.6435294117647, 'X[1] <= 13.95\\nmse = 0.04\\nsamples = 2\\nvalue = 30.3'),\n",
       " Text(694.6695652173913, 190.26, 'mse = 0.0\\nsamples = 1\\nvalue = 30.1'),\n",
       " Text(720.5478260869565, 190.26, 'mse = 0.0\\nsamples = 1\\nvalue = 30.5'),\n",
       " Text(759.3652173913043, 279.7941176470588, 'X[4] <= 24.963\\nmse = 1.45\\nsamples = 8\\nvalue = 24.4'),\n",
       " Text(733.4869565217391, 257.4105882352941, 'X[4] <= 24.956\\nmse = 0.202\\nsamples = 3\\nvalue = 25.867'),\n",
       " Text(720.5478260869565, 235.0270588235294, 'mse = 0.0\\nsamples = 1\\nvalue = 26.5'),\n",
       " Text(746.4260869565218, 235.0270588235294, 'X[0] <= 170.5\\nmse = 0.003\\nsamples = 2\\nvalue = 25.55'),\n",
       " Text(733.4869565217391, 212.6435294117647, 'mse = 0.0\\nsamples = 1\\nvalue = 25.6'),\n",
       " Text(759.3652173913043, 212.6435294117647, 'mse = 0.0\\nsamples = 1\\nvalue = 25.5'),\n",
       " Text(785.2434782608696, 257.4105882352941, 'X[4] <= 24.963\\nmse = 0.134\\nsamples = 5\\nvalue = 23.52'),\n",
       " Text(772.304347826087, 235.0270588235294, 'mse = 0.0\\nsamples = 1\\nvalue = 22.8'),\n",
       " Text(798.1826086956522, 235.0270588235294, 'X[5] <= 121.514\\nmse = 0.005\\nsamples = 4\\nvalue = 23.7'),\n",
       " Text(785.2434782608696, 212.6435294117647, 'mse = 0.0\\nsamples = 1\\nvalue = 23.8'),\n",
       " Text(811.1217391304348, 212.6435294117647, 'X[1] <= 19.05\\nmse = 0.002\\nsamples = 3\\nvalue = 23.667'),\n",
       " Text(798.1826086956522, 190.26, 'mse = 0.0\\nsamples = 2\\nvalue = 23.7'),\n",
       " Text(824.0608695652173, 190.26, 'mse = 0.0\\nsamples = 1\\nvalue = 23.6'),\n",
       " Text(798.1826086956522, 302.1776470588235, 'X[2] <= 1283.427\\nmse = 2.102\\nsamples = 2\\nvalue = 41.75'),\n",
       " Text(785.2434782608696, 279.7941176470588, 'mse = 0.0\\nsamples = 1\\nvalue = 40.3'),\n",
       " Text(811.1217391304348, 279.7941176470588, 'mse = 0.0\\nsamples = 1\\nvalue = 43.2')]"
      ]
     },
     "execution_count": 34,
     "metadata": {},
     "output_type": "execute_result"
    },
    {
     "data": {
      "image/png": "[encoded data removed]",
      "text/plain": [
       "<Figure size 1080x504 with 1 Axes>"
      ]
     },
     "metadata": {
      "needs_background": "light"
     },
     "output_type": "display_data"
    }
   ],
   "source": [
    "dft=dtr.fit(x_test,y_pred_dtr)\n",
    "plt.figure(figsize=(15,7))\n",
    "plot_tree(dtr,filled=True)"
   ]
  },
  {
   "cell_type": "code",
   "execution_count": 35,
   "id": "b29b7201",
   "metadata": {},
   "outputs": [],
   "source": [
    "r_squared2=r2_score(y_test,y_pred_dtr)"
   ]
  },
  {
   "cell_type": "code",
   "execution_count": 36,
   "id": "b6a25038",
   "metadata": {},
   "outputs": [
    {
     "data": {
      "text/plain": [
       "0.7049569023103226"
      ]
     },
     "execution_count": 36,
     "metadata": {},
     "output_type": "execute_result"
    }
   ],
   "source": [
    "r_squared"
   ]
  },
  {
   "cell_type": "code",
   "execution_count": 37,
   "id": "f8fae58d",
   "metadata": {},
   "outputs": [],
   "source": [
    "mse=mean_squared_error(y_test,y_pred_dtr)"
   ]
  },
  {
   "cell_type": "code",
   "execution_count": 38,
   "id": "b5a63180",
   "metadata": {},
   "outputs": [
    {
     "data": {
      "text/plain": [
       "77.05698795180723"
      ]
     },
     "execution_count": 38,
     "metadata": {},
     "output_type": "execute_result"
    }
   ],
   "source": [
    "mse"
   ]
  },
  {
   "cell_type": "markdown",
   "id": "8df56162",
   "metadata": {},
   "source": [
    "## Random Tree Regression"
   ]
  },
  {
   "cell_type": "code",
   "execution_count": 39,
   "id": "92ee9668",
   "metadata": {},
   "outputs": [],
   "source": [
    "from sklearn.ensemble import RandomForestRegressor\n",
    "rf=RandomForestRegressor()\n",
    "rf.fit(x_train,y_train)\n",
    "y_pred_rf=rf.predict(x_test)"
   ]
  },
  {
   "cell_type": "code",
   "execution_count": 40,
   "id": "81debbfc",
   "metadata": {},
   "outputs": [
    {
     "data": {
      "text/plain": [
       "array([26.297, 48.886, 23.946, 17.31 , 78.486, 29.175, 25.824, 35.699,\n",
       "       45.3  , 15.476, 16.244, 38.938, 25.192, 44.722, 53.43 , 24.357,\n",
       "       79.321, 46.961, 24.643, 51.192, 45.171, 24.832, 37.011, 57.335,\n",
       "       50.223, 26.424, 25.903, 52.112, 50.796, 15.055, 29.536, 40.388,\n",
       "       39.965, 48.322, 45.803, 17.506, 39.574, 40.544, 40.383, 17.208,\n",
       "       44.78 , 15.42 , 59.527, 30.384, 29.202, 29.776, 26.751, 40.765,\n",
       "       43.471, 41.641, 14.988, 58.296, 45.008, 16.547, 49.644, 43.607,\n",
       "       76.957, 40.671, 43.307, 39.43 , 15.148, 37.045, 26.774, 15.126,\n",
       "       40.597, 51.516, 59.5  , 42.618, 18.55 , 40.018, 52.023, 17.02 ,\n",
       "       37.929, 28.576, 57.665, 32.665, 34.047, 39.688, 35.53 , 50.601,\n",
       "       44.467, 50.553, 45.228])"
      ]
     },
     "execution_count": 40,
     "metadata": {},
     "output_type": "execute_result"
    }
   ],
   "source": [
    "y_pred_rf"
   ]
  },
  {
   "cell_type": "code",
   "execution_count": 41,
   "id": "ce705e6a",
   "metadata": {},
   "outputs": [],
   "source": [
    "r_squared3=r2_score(y_test,y_pred_rf)"
   ]
  },
  {
   "cell_type": "code",
   "execution_count": 42,
   "id": "5aec04cb",
   "metadata": {},
   "outputs": [
    {
     "data": {
      "text/plain": [
       "0.5502915067211708"
      ]
     },
     "execution_count": 42,
     "metadata": {},
     "output_type": "execute_result"
    }
   ],
   "source": [
    "r_squared3"
   ]
  },
  {
   "cell_type": "code",
   "execution_count": 43,
   "id": "e55b6931",
   "metadata": {},
   "outputs": [],
   "source": [
    "mse=mean_squared_error(y_test,y_pred_rf)"
   ]
  },
  {
   "cell_type": "code",
   "execution_count": 44,
   "id": "e94feb96",
   "metadata": {},
   "outputs": [
    {
     "data": {
      "text/plain": [
       "68.25947725301205"
      ]
     },
     "execution_count": 44,
     "metadata": {},
     "output_type": "execute_result"
    }
   ],
   "source": [
    "mse"
   ]
  },
  {
   "cell_type": "markdown",
   "id": "b02c705c",
   "metadata": {},
   "source": [
    "### END"
   ]
  }
 ],
 "metadata": {
  "kernelspec": {
   "display_name": "Python 3",
   "language": "python",
   "name": "python3"
  },
  "language_info": {
   "codemirror_mode": {
    "name": "ipython",
    "version": 3
   },
   "file_extension": ".py",
   "mimetype": "text/x-python",
   "name": "python",
   "nbconvert_exporter": "python",
   "pygments_lexer": "ipython3",
   "version": "3.8.8"
  }
 },
 "nbformat": 4,
 "nbformat_minor": 5
}
